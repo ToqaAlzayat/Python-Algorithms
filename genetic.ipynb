{
 "cells": [
  {
   "cell_type": "code",
   "execution_count": 1,
   "id": "216f711b",
   "metadata": {},
   "outputs": [],
   "source": [
    "import numpy as np\n",
    "def init_pop(pop_size):\n",
    "    return np.random.randint(8,size=(pop_size,8))"
   ]
  },
  {
   "cell_type": "code",
   "execution_count": 2,
   "id": "90a27db7",
   "metadata": {},
   "outputs": [],
   "source": [
    "def calc_fitness(population):\n",
    "    fitness_vals=[]\n",
    "    for x in population:\n",
    "        penalty=0\n",
    "        for i in range(8):\n",
    "            r=x[i]\n",
    "            for j in range(8):\n",
    "                if i==j:\n",
    "                    continue\n",
    "                d=abs(i-j)\n",
    "                if x[j] in [r,r-d,r+d]:\n",
    "                    penalty+=1\n",
    "        fitness_vals.append(penalty)\n",
    "    return -1*np.array(fitness_vals)"
   ]
  },
  {
   "cell_type": "code",
   "execution_count": 3,
   "id": "67be6324",
   "metadata": {},
   "outputs": [],
   "source": [
    "def selection(population,fitness_vals):\n",
    "    probs=fitness_vals.copy()\n",
    "    probs+=abs(probs.min())+1\n",
    "    probs=probs/probs.sum()\n",
    "    N=len(population)\n",
    "    indices=np.arange(N)\n",
    "    selected_indices=np.random.choice(indices,size=N,p=probs)\n",
    "    selected_pop=population[selected_indices]\n",
    "    return selected_pop"
   ]
  },
  {
   "cell_type": "code",
   "execution_count": 4,
   "id": "1a4f27e6",
   "metadata": {},
   "outputs": [],
   "source": [
    "def crossover(parent1,parent2,pc):\n",
    "    r=np.random.random()\n",
    "    if r<pc:\n",
    "        m=np.random.randint(1,8)\n",
    "        child1=np.concatenate([parent1[:m],parent2[m:]])\n",
    "        child2=np.concatenate([parent2[:m],parent1[m:]])\n",
    "    else:    \n",
    "        child1=parent1.copy()\n",
    "        child2=parent2.copy()\n",
    "    return child1,child2"
   ]
  },
  {
   "cell_type": "code",
   "execution_count": 5,
   "id": "e3ab1426",
   "metadata": {},
   "outputs": [],
   "source": [
    "def mutation(individual,pm):\n",
    "    r=np.random.random()\n",
    "    if r<pm:\n",
    "        m=np.random.randint(8)\n",
    "        individual[m]=np.random.randint(8)\n",
    "    return individual"
   ]
  },
  {
   "cell_type": "code",
   "execution_count": 6,
   "id": "85fc1283",
   "metadata": {},
   "outputs": [],
   "source": [
    "def crossover_mutation(selected_pop,pc,pm):\n",
    "    N=len(selected_pop)\n",
    "    new_pop=np.empty((N,8),dtype=int)\n",
    "    for i in range(0,N,2):\n",
    "        parent1=selected_pop[i]\n",
    "        parent2=selected_pop[i+1]\n",
    "        child1,child2=crossover(parent1,parent2,pc)\n",
    "        new_pop[i]=child1\n",
    "        new_pop[i+1]=child2\n",
    "    for i in range(N):\n",
    "        mutation(new_pop[i],pm)\n",
    "    return new_pop"
   ]
  },
  {
   "cell_type": "code",
   "execution_count": 7,
   "id": "e853389f",
   "metadata": {},
   "outputs": [],
   "source": [
    "def eight_queens(pop_size,max_generations,pc=0.7,pm=0.01):\n",
    "    population=init_pop(pop_size)\n",
    "    best_fitness_overall=None\n",
    "    for i_gen in range(max_generations):\n",
    "        fitness_vals=calc_fitness(population)\n",
    "        best_i=fitness_vals.argmax()\n",
    "        best_fitness=fitness_vals[best_i]\n",
    "        if best_fitness_overall is None or best_fitness>best_fitness_overall:\n",
    "            best_fitness_overall=best_fitness\n",
    "            best_solution=population[best_i]\n",
    "        if best_fitness==0:\n",
    "            print('\\n found optimal solution')\n",
    "            break\n",
    "        selected_pop=selection(population,fitness_vals)\n",
    "        population=crossover_mutation(selected_pop,pc,pm)\n",
    "    print(best_solution)\n",
    "        "
   ]
  },
  {
   "cell_type": "code",
   "execution_count": 8,
   "id": "bf704f11",
   "metadata": {},
   "outputs": [
    {
     "name": "stdout",
     "output_type": "stream",
     "text": [
      "[[4 5 7 5 1 5 1 1]\n",
      " [2 4 5 3 6 4 0 0]\n",
      " [1 2 2 3 3 0 3 7]\n",
      " [2 7 4 7 7 5 5 6]]\n"
     ]
    }
   ],
   "source": [
    "initial_population=init_pop(4)\n",
    "print(initial_population)"
   ]
  },
  {
   "cell_type": "code",
   "execution_count": 9,
   "id": "e37b22bc",
   "metadata": {},
   "outputs": [
    {
     "name": "stdout",
     "output_type": "stream",
     "text": [
      "[-16 -12 -16 -16]\n"
     ]
    }
   ],
   "source": [
    "fitness_vals=calc_fitness(initial_population)\n",
    "print(fitness_vals)"
   ]
  },
  {
   "cell_type": "code",
   "execution_count": 10,
   "id": "10584f20",
   "metadata": {},
   "outputs": [
    {
     "name": "stdout",
     "output_type": "stream",
     "text": [
      "[[2 4 5 3 6 4 0 0]\n",
      " [2 4 5 3 6 4 0 0]\n",
      " [2 4 5 3 6 4 0 0]\n",
      " [4 5 7 5 1 5 1 1]]\n"
     ]
    }
   ],
   "source": [
    "selected_pop=selection(initial_population,fitness_vals)\n",
    "print(selected_pop)"
   ]
  },
  {
   "cell_type": "code",
   "execution_count": 11,
   "id": "e000bdad",
   "metadata": {},
   "outputs": [
    {
     "name": "stdout",
     "output_type": "stream",
     "text": [
      "[2 4 5 3 6 4 0 0] --> [2 4 5 3 6 4 0 0]\n",
      "[2 4 5 3 6 4 0 0] --> [2 4 5 3 6 4 0 0]\n"
     ]
    }
   ],
   "source": [
    "parent1=selected_pop[0]\n",
    "parent2=selected_pop[1]\n",
    "child1,child2=crossover(parent1, parent2, pc=0.7)\n",
    "print(parent1,'-->',child1)\n",
    "print(parent2,'-->',child2)"
   ]
  },
  {
   "cell_type": "code",
   "execution_count": 12,
   "id": "1346592c",
   "metadata": {},
   "outputs": [
    {
     "name": "stdout",
     "output_type": "stream",
     "text": [
      "\n",
      " found optimal solution\n",
      "[5 2 0 6 4 7 1 3]\n"
     ]
    }
   ],
   "source": [
    "eight_queens(pop_size=100,max_generations=10000,pc=0.5,pm=0.05)"
   ]
  }
 ],
 "metadata": {
  "kernelspec": {
   "display_name": "Python 3 (ipykernel)",
   "language": "python",
   "name": "python3"
  },
  "language_info": {
   "codemirror_mode": {
    "name": "ipython",
    "version": 3
   },
   "file_extension": ".py",
   "mimetype": "text/x-python",
   "name": "python",
   "nbconvert_exporter": "python",
   "pygments_lexer": "ipython3",
   "version": "3.9.7"
  }
 },
 "nbformat": 4,
 "nbformat_minor": 5
}
